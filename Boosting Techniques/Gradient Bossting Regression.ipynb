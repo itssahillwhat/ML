{
 "cells": [
  {
   "metadata": {},
   "cell_type": "markdown",
   "source": [
    "# Used Car Price Prediction\n",
    "## 1) Problem statement.\n",
    "- This dataset comprises used cars sold on cardehko.com in India as well as important features of these cars.\n",
    "- If user can predict the price of the car based on input features.\n",
    "- Prediction results can be used to give new seller the price suggestion based on market condition.\n",
    "## 2) Data Collection.\n",
    "- The Dataset is collected from scrapping from cardheko webiste\n",
    "- The data consists of 13 column and 15411 rows."
   ],
   "id": "5b843fdbdc9b77a3"
  },
  {
   "cell_type": "code",
   "id": "initial_id",
   "metadata": {
    "collapsed": true,
    "ExecuteTime": {
     "end_time": "2024-12-03T15:33:42.376642Z",
     "start_time": "2024-12-03T15:33:42.228924Z"
    }
   },
   "source": [
    "import pandas as pd\n",
    "import numpy as np\n",
    "import matplotlib.pyplot as plt\n",
    "import seaborn as sns\n",
    "import plotly.express as px\n",
    "import warnings\n",
    "\n",
    "warnings.filterwarnings(\"ignore\")\n",
    "\n",
    "%matplotlib inline"
   ],
   "outputs": [],
   "execution_count": 1
  },
  {
   "metadata": {},
   "cell_type": "code",
   "outputs": [],
   "execution_count": null,
   "source": "",
   "id": "8c1aaed519e5d73f"
  }
 ],
 "metadata": {
  "kernelspec": {
   "display_name": "Python 3",
   "language": "python",
   "name": "python3"
  },
  "language_info": {
   "codemirror_mode": {
    "name": "ipython",
    "version": 2
   },
   "file_extension": ".py",
   "mimetype": "text/x-python",
   "name": "python",
   "nbconvert_exporter": "python",
   "pygments_lexer": "ipython2",
   "version": "2.7.6"
  }
 },
 "nbformat": 4,
 "nbformat_minor": 5
}
