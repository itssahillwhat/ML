{
 "cells": [
  {
   "cell_type": "code",
   "execution_count": null,
   "id": "initial_id",
   "metadata": {
    "collapsed": true
   },
   "outputs": [],
   "source": "import numpy as np"
  },
  {
   "metadata": {},
   "cell_type": "code",
   "outputs": [],
   "execution_count": null,
   "source": [
    "def predict(theta, theta0, X):\n",
    "    h0_x = X.dot(theta) + theta0\n",
    "    return h0_x\n",
    "\n",
    "def cost(X, y, theta, theta0):\n",
    "    h0_x = predict(theta, theta0, X)\n",
    "    \n",
    "    err = 0\n",
    "    m = X.shape[0]\n",
    "    for i in range(m):\n",
    "        err += (h0_x - y[i]) ** 2\n",
    "        \n",
    "    J_0 = err / (2 * m)\n",
    "    return J_0\n",
    "\n",
    "def gradient(X, y, theta, theta0):\n",
    "    dj_d0 = 0\n",
    "    dj_dtheta = np.zeros_like(theta)\n",
    "    m = X.shape[0]\n",
    "    h0_x = predict(theta, theta0, X)\n",
    "    \n",
    "    for i in range(m):\n",
    "        dj_d0 = (h0_x[i] - y[i])\n",
    "        dj_dtheta += (h0_x[i] - y[i]) * (X[i])   \n",
    "        \n",
    "    dj_d0 /= m\n",
    "    dj_dtheta /= m\n",
    "    return dj_d0, dj_dtheta\n",
    "\n",
    "def gradient_descent(X, y, theta, theta0, alpha=0.01, num_iter=1500):\n",
    "    cost_history = []\n",
    "    \n",
    "    for _ in range(num_iter):\n",
    "        dj_d0, dj_dtheta = gradient(X, y, theta, theta0)\n",
    "        \n",
    "        theta0 -= alpha * dj_d0\n",
    "        theta -= alpha * dj_dtheta\n",
    "        J_0 = cost(X, y, theta, theta0)\n",
    "        cost_history.append(J_0)\n",
    "        \n",
    "    return theta, theta0, cost_history"
   ],
   "id": "8ecf55e29c5399b5"
  }
 ],
 "metadata": {
  "kernelspec": {
   "display_name": "Python 3",
   "language": "python",
   "name": "python3"
  },
  "language_info": {
   "codemirror_mode": {
    "name": "ipython",
    "version": 2
   },
   "file_extension": ".py",
   "mimetype": "text/x-python",
   "name": "python",
   "nbconvert_exporter": "python",
   "pygments_lexer": "ipython2",
   "version": "2.7.6"
  }
 },
 "nbformat": 4,
 "nbformat_minor": 5
}
