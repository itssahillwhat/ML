{
 "cells": [
  {
   "cell_type": "code",
   "id": "initial_id",
   "metadata": {
    "collapsed": true,
    "ExecuteTime": {
     "end_time": "2024-11-07T07:13:13.794664Z",
     "start_time": "2024-11-07T07:13:13.648361Z"
    }
   },
   "source": "import numpy as np",
   "outputs": [],
   "execution_count": 1
  },
  {
   "metadata": {
    "ExecuteTime": {
     "end_time": "2024-11-07T07:13:14.415380Z",
     "start_time": "2024-11-07T07:13:14.407414Z"
    }
   },
   "cell_type": "code",
   "source": [
    "class LinearRegression:\n",
    "    def __init__(self, alpha=0.01, num_iter=1500):\n",
    "        self.alpha = alpha\n",
    "        self.num_iter = num_iter\n",
    "        self.theta = None\n",
    "        self.theta0 = 0\n",
    "        \n",
    "    def predict(self, X):\n",
    "        h0_x = X.dot(self.theta) + self.theta0\n",
    "        return h0_x\n",
    "    \n",
    "    def cost(self, X, y):\n",
    "        h0_x = self.predict(X)\n",
    "        \n",
    "        # Calculate squared error\n",
    "        error = (h0_x - y) ** 2\n",
    "        J_0 = np.sum(error) / (2 * len(X))  \n",
    "        return J_0\n",
    "    \n",
    "    def gradient(self, X, y):\n",
    "        m = len(X)\n",
    "        h0_x = self.predict(X)\n",
    "        \n",
    "        dj_d0 = np.sum(h0_x - y) / m  \n",
    "        dj_dtheta = np.dot(X.T, (h0_x - y)) / m  \n",
    "        \n",
    "        return dj_d0, dj_dtheta\n",
    "    \n",
    "    def gradient_descent(self, X, y):\n",
    "        cost_history = []\n",
    "        \n",
    "        for _ in range(self.num_iter):\n",
    "            dj_d0, dj_dtheta = self.gradient(X, y)\n",
    "            \n",
    "            self.theta0 -= self.alpha * dj_d0\n",
    "            self.theta -= self.alpha * dj_dtheta\n",
    "            J_0 = self.cost(X, y)\n",
    "            cost_history.append(J_0) \n",
    "            \n",
    "        print(\"Cost history length:\", len(cost_history))\n",
    "        return self.theta, self.theta0, cost_history"
   ],
   "id": "8ecf55e29c5399b5",
   "outputs": [],
   "execution_count": 2
  },
  {
   "metadata": {
    "ExecuteTime": {
     "end_time": "2024-11-07T07:13:15.062472Z",
     "start_time": "2024-11-07T07:13:15.015072Z"
    }
   },
   "cell_type": "code",
   "source": [
    "np.random.seed(42)\n",
    "m = 100\n",
    "n = 3\n",
    "X = np.random.rand(m, n) * 10\n",
    "y = 3 * X[:, 0] + 2 * X[:, 1] + 4 * X[:, 2] + np.random.randn(m) * 5\n",
    "X_scaled = (X - np.mean(X, axis=0)) / np.std(X, axis=0)\n",
    "\n",
    "model = LinearRegression(alpha=0.01, num_iter=1500)\n",
    "model.theta = np.zeros(X_scaled.shape[1])\n",
    "theta, theta0, cost_history = model.gradient_descent(X_scaled, y)\n",
    "\n",
    "print(\"Optimized theta:\", theta)\n",
    "print(\"Optimized theta0:\", theta0)\n",
    "print(\"Final cost:\", cost_history[-1]) "
   ],
   "id": "63b2e1f8be8637bb",
   "outputs": [
    {
     "name": "stdout",
     "output_type": "stream",
     "text": [
      "Cost history length: 1500\n",
      "Optimized theta: [ 8.93119459  5.92980344 12.2843712 ]\n",
      "Optimized theta0: 44.75595834347107\n",
      "Final cost: 11.50498525822048\n"
     ]
    }
   ],
   "execution_count": 3
  },
  {
   "metadata": {
    "ExecuteTime": {
     "end_time": "2024-11-07T07:13:16.669242Z",
     "start_time": "2024-11-07T07:13:15.804388Z"
    }
   },
   "cell_type": "code",
   "source": [
    "import matplotlib.pyplot as plt\n",
    "plt.plot(cost_history)\n",
    "plt.xlabel('Iterations')\n",
    "plt.ylabel('Cost')\n",
    "plt.title('Cost History')\n",
    "plt.show()"
   ],
   "id": "3dae3bd7c0caf35c",
   "outputs": [
    {
     "data": {
      "text/plain": [
       "<Figure size 640x480 with 1 Axes>"
      ],
      "image/png": "[encoded data removed]"
     },
     "metadata": {},
     "output_type": "display_data"
    }
   ],
   "execution_count": 4
  }
 ],
 "metadata": {
  "kernelspec": {
   "display_name": "Python 3",
   "language": "python",
   "name": "python3"
  },
  "language_info": {
   "codemirror_mode": {
    "name": "ipython",
    "version": 2
   },
   "file_extension": ".py",
   "mimetype": "text/x-python",
   "name": "python",
   "nbconvert_exporter": "python",
   "pygments_lexer": "ipython2",
   "version": "2.7.6"
  }
 },
 "nbformat": 4,
 "nbformat_minor": 5
}
