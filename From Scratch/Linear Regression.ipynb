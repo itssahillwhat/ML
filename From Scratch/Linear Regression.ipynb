{
 "cells": [
  {
   "cell_type": "code",
   "id": "initial_id",
   "metadata": {
    "collapsed": true,
    "ExecuteTime": {
     "end_time": "2024-11-08T04:55:14.263129Z",
     "start_time": "2024-11-08T04:55:14.252745Z"
    }
   },
   "source": [
    "import numpy as np\n",
    "import pandas as pd\n",
    "import matplotlib.pyplot as plt\n",
    "from sklearn.preprocessing import StandardScaler\n",
    "from sklearn.linear_model import LinearRegression\n",
    "from sklearn.model_selection import cross_val_score\n",
    "from sklearn.model_selection import train_test_split\n",
    "from sklearn.metrics import r2_score, mean_absolute_error, mean_squared_error"
   ],
   "outputs": [],
   "execution_count": 14
  },
  {
   "metadata": {
    "ExecuteTime": {
     "end_time": "2024-11-08T04:55:14.636786Z",
     "start_time": "2024-11-08T04:55:14.616894Z"
    }
   },
   "cell_type": "code",
   "source": [
    "data = pd.read_csv('house_price_regression_dataset.csv')\n",
    "data.head()"
   ],
   "id": "297ec78b4758c627",
   "outputs": [
    {
     "data": {
      "text/plain": [
       "   Square_Footage  Num_Bedrooms  Num_Bathrooms  Year_Built  Lot_Size  \\\n",
       "0            1360             2              1        1981  0.599637   \n",
       "1            4272             3              3        2016  4.753014   \n",
       "2            3592             1              2        2016  3.634823   \n",
       "3             966             1              2        1977  2.730667   \n",
       "4            4926             2              1        1993  4.699073   \n",
       "\n",
       "   Garage_Size  Neighborhood_Quality   House_Price  \n",
       "0            0                     5  2.623829e+05  \n",
       "1            1                     6  9.852609e+05  \n",
       "2            0                     9  7.779774e+05  \n",
       "3            1                     8  2.296989e+05  \n",
       "4            0                     8  1.041741e+06  "
      ],
      "text/html": [
       "<div>\n",
       "<style scoped>\n",
       "    .dataframe tbody tr th:only-of-type {\n",
       "        vertical-align: middle;\n",
       "    }\n",
       "\n",
       "    .dataframe tbody tr th {\n",
       "        vertical-align: top;\n",
       "    }\n",
       "\n",
       "    .dataframe thead th {\n",
       "        text-align: right;\n",
       "    }\n",
       "</style>\n",
       "<table border=\"1\" class=\"dataframe\">\n",
       "  <thead>\n",
       "    <tr style=\"text-align: right;\">\n",
       "      <th></th>\n",
       "      <th>Square_Footage</th>\n",
       "      <th>Num_Bedrooms</th>\n",
       "      <th>Num_Bathrooms</th>\n",
       "      <th>Year_Built</th>\n",
       "      <th>Lot_Size</th>\n",
       "      <th>Garage_Size</th>\n",
       "      <th>Neighborhood_Quality</th>\n",
       "      <th>House_Price</th>\n",
       "    </tr>\n",
       "  </thead>\n",
       "  <tbody>\n",
       "    <tr>\n",
       "      <th>0</th>\n",
       "      <td>1360</td>\n",
       "      <td>2</td>\n",
       "      <td>1</td>\n",
       "      <td>1981</td>\n",
       "      <td>0.599637</td>\n",
       "      <td>0</td>\n",
       "      <td>5</td>\n",
       "      <td>2.623829e+05</td>\n",
       "    </tr>\n",
       "    <tr>\n",
       "      <th>1</th>\n",
       "      <td>4272</td>\n",
       "      <td>3</td>\n",
       "      <td>3</td>\n",
       "      <td>2016</td>\n",
       "      <td>4.753014</td>\n",
       "      <td>1</td>\n",
       "      <td>6</td>\n",
       "      <td>9.852609e+05</td>\n",
       "    </tr>\n",
       "    <tr>\n",
       "      <th>2</th>\n",
       "      <td>3592</td>\n",
       "      <td>1</td>\n",
       "      <td>2</td>\n",
       "      <td>2016</td>\n",
       "      <td>3.634823</td>\n",
       "      <td>0</td>\n",
       "      <td>9</td>\n",
       "      <td>7.779774e+05</td>\n",
       "    </tr>\n",
       "    <tr>\n",
       "      <th>3</th>\n",
       "      <td>966</td>\n",
       "      <td>1</td>\n",
       "      <td>2</td>\n",
       "      <td>1977</td>\n",
       "      <td>2.730667</td>\n",
       "      <td>1</td>\n",
       "      <td>8</td>\n",
       "      <td>2.296989e+05</td>\n",
       "    </tr>\n",
       "    <tr>\n",
       "      <th>4</th>\n",
       "      <td>4926</td>\n",
       "      <td>2</td>\n",
       "      <td>1</td>\n",
       "      <td>1993</td>\n",
       "      <td>4.699073</td>\n",
       "      <td>0</td>\n",
       "      <td>8</td>\n",
       "      <td>1.041741e+06</td>\n",
       "    </tr>\n",
       "  </tbody>\n",
       "</table>\n",
       "</div>"
      ]
     },
     "execution_count": 15,
     "metadata": {},
     "output_type": "execute_result"
    }
   ],
   "execution_count": 15
  },
  {
   "metadata": {
    "ExecuteTime": {
     "end_time": "2024-11-08T04:55:14.971172Z",
     "start_time": "2024-11-08T04:55:14.957923Z"
    }
   },
   "cell_type": "code",
   "source": "data.isnull().sum()",
   "id": "96ad6382b1381e39",
   "outputs": [
    {
     "data": {
      "text/plain": [
       "Square_Footage          0\n",
       "Num_Bedrooms            0\n",
       "Num_Bathrooms           0\n",
       "Year_Built              0\n",
       "Lot_Size                0\n",
       "Garage_Size             0\n",
       "Neighborhood_Quality    0\n",
       "House_Price             0\n",
       "dtype: int64"
      ]
     },
     "execution_count": 16,
     "metadata": {},
     "output_type": "execute_result"
    }
   ],
   "execution_count": 16
  },
  {
   "metadata": {
    "ExecuteTime": {
     "end_time": "2024-11-08T04:55:15.259053Z",
     "start_time": "2024-11-08T04:55:15.245255Z"
    }
   },
   "cell_type": "code",
   "source": "data.info()",
   "id": "4af4bf2a166343c5",
   "outputs": [
    {
     "name": "stdout",
     "output_type": "stream",
     "text": [
      "<class 'pandas.core.frame.DataFrame'>\n",
      "RangeIndex: 1000 entries, 0 to 999\n",
      "Data columns (total 8 columns):\n",
      " #   Column                Non-Null Count  Dtype  \n",
      "---  ------                --------------  -----  \n",
      " 0   Square_Footage        1000 non-null   int64  \n",
      " 1   Num_Bedrooms          1000 non-null   int64  \n",
      " 2   Num_Bathrooms         1000 non-null   int64  \n",
      " 3   Year_Built            1000 non-null   int64  \n",
      " 4   Lot_Size              1000 non-null   float64\n",
      " 5   Garage_Size           1000 non-null   int64  \n",
      " 6   Neighborhood_Quality  1000 non-null   int64  \n",
      " 7   House_Price           1000 non-null   float64\n",
      "dtypes: float64(2), int64(6)\n",
      "memory usage: 62.6 KB\n"
     ]
    }
   ],
   "execution_count": 17
  },
  {
   "metadata": {},
   "cell_type": "markdown",
   "source": "# From Scratch",
   "id": "e9342bedc1364dd5"
  },
  {
   "metadata": {
    "ExecuteTime": {
     "end_time": "2024-11-08T04:55:15.890616Z",
     "start_time": "2024-11-08T04:55:15.860057Z"
    }
   },
   "cell_type": "code",
   "source": [
    "train_data = data.loc[:801, :]\n",
    "X_train = train_data.drop([\"House_Price\"], axis=1)\n",
    "y_train = train_data[\"House_Price\"]\n",
    "\n",
    "test_data = data.loc[801:, :]\n",
    "X_test = test_data.drop([\"House_Price\"], axis=1)\n",
    "y_test = test_data[\"House_Price\"]\n",
    "\n",
    "scaler = StandardScaler()\n",
    "X_train_scaled = scaler.fit_transform(X_train)\n",
    "X_test_scaled = scaler.transform(X_test)\n",
    "\n",
    "X_train_scaled = np.c_[np.ones(X_train_scaled.shape[0]), X_train_scaled]\n",
    "X_test_scaled = np.c_[np.ones(X_test_scaled.shape[0]), X_test_scaled]"
   ],
   "id": "8e41c5e281136ce1",
   "outputs": [],
   "execution_count": 18
  },
  {
   "metadata": {
    "ExecuteTime": {
     "end_time": "2024-11-08T04:55:32.215332Z",
     "start_time": "2024-11-08T04:55:16.434838Z"
    }
   },
   "cell_type": "code",
   "source": [
    "class LinearRegressions:\n",
    "    def __init__(self, alpha=0.01, num_iter=1500):\n",
    "        self.alpha = alpha\n",
    "        self.num_iter = num_iter\n",
    "        self.theta = None\n",
    "\n",
    "    def predict(self, X):\n",
    "        predictions = []\n",
    "        for i in range(len(X)):\n",
    "            prediction = 0\n",
    "            for j in range(len(self.theta)):\n",
    "                prediction += X[i][j] * self.theta[j]\n",
    "            predictions.append(prediction)\n",
    "        return predictions\n",
    "\n",
    "    def cost(self, X, y):\n",
    "        m = len(y)\n",
    "        predictions = self.predict(X)\n",
    "        cost = 0\n",
    "        for i in range(m):\n",
    "            cost += (predictions[i] - y[i]) ** 2\n",
    "        return (1 / (2 * m)) * cost\n",
    "\n",
    "    def gradient(self, X, y):\n",
    "        m = len(y)\n",
    "        predictions = self.predict(X)\n",
    "        error = [predictions[i] - y[i] for i in range(m)]\n",
    "        gradient = [0] * len(self.theta)\n",
    "\n",
    "        for j in range(len(self.theta)):\n",
    "            for i in range(m):\n",
    "                gradient[j] += X[i][j] * error[i]\n",
    "            gradient[j] /= m\n",
    "        return gradient\n",
    "\n",
    "    def gradient_descent(self, X, y):\n",
    "        m = len(y)\n",
    "        cost_history = []\n",
    "        self.theta = [0] * len(X[0]) \n",
    "\n",
    "        for i in range(self.num_iter):\n",
    "            grad = self.gradient(X, y)\n",
    "            for j in range(len(self.theta)):\n",
    "                self.theta[j] -= self.alpha * grad[j]\n",
    "            cost = self.cost(X, y)\n",
    "            cost_history.append(cost)\n",
    "\n",
    "        return self.theta, cost_history\n",
    "\n",
    "model = LinearRegressions(alpha=0.01, num_iter=1500)\n",
    "theta, cost_history = model.gradient_descent(X_train_scaled, y_train)\n",
    "y_pred = model.predict(X_test_scaled)\n",
    "\n",
    "y_test_list = list(y_test)\n",
    "mae = sum(abs(y_pred[i] - y_test_list[i]) for i in range(len(y_test_list))) / len(y_test_list)\n",
    "mse = sum((y_pred[i] - y_test_list[i]) ** 2 for i in range(len(y_test_list))) / len(y_test_list)\n",
    "mean_y = sum(y_test_list) / len(y_test_list)\n",
    "ss_tot = sum((y - mean_y) ** 2 for y in y_test_list)\n",
    "ss_res = sum((y_pred[i] - y_test_list[i]) ** 2 for i in range(len(y_test_list)))\n",
    "r2_score_ = 1 - (ss_res / ss_tot)\n",
    "\n",
    "print(\"Final Cost:\", cost_history[-1])\n",
    "print(\"Mean Absolute Error:\", mae)\n",
    "print(\"Mean Squared Error:\", mse)\n",
    "print(\"R2 Score:\", r2_score_)"
   ],
   "id": "8ecf55e29c5399b5",
   "outputs": [
    {
     "name": "stdout",
     "output_type": "stream",
     "text": [
      "Final Cost: 48636159.445640154\n",
      "Mean Absolute Error: 7557.139021052108\n",
      "Mean Squared Error: 88214795.62829228\n",
      "R2 Score: 0.9985622064753631\n"
     ]
    }
   ],
   "execution_count": 19
  },
  {
   "metadata": {},
   "cell_type": "markdown",
   "source": "# Using sklearn",
   "id": "fc7edbca7886e2ec"
  },
  {
   "metadata": {
    "ExecuteTime": {
     "end_time": "2024-11-08T05:12:11.960006Z",
     "start_time": "2024-11-08T05:12:11.917403Z"
    }
   },
   "cell_type": "code",
   "source": [
    "X_sklearn = data.drop([\"House_Price\"], axis=1)\n",
    "y_sklearn = data[\"House_Price\"]\n",
    "\n",
    "X_train_sklearn, X_test_sklearn, y_train_sklearn, y_test_sklearn = train_test_split(X_sklearn, y_sklearn, test_size=0.2, random_state=42)\n",
    "\n",
    "scaler_sklearn = StandardScaler()\n",
    "X_train_scaled_sklearn = scaler_sklearn.fit_transform(X_train_sklearn)\n",
    "X_test_scaled_sklearn = scaler_sklearn.transform(X_test_sklearn)\n",
    "\n",
    "lin_reg_sklearn = LinearRegression()\n",
    "lin_reg_sklearn.fit(X_train_scaled_sklearn, y_train_sklearn)\n",
    "y_pred_sklearn = lin_reg_sklearn.predict(X_test_scaled_sklearn)\n",
    "\n",
    "r2 = r2_score(y_test_sklearn, y_pred_sklearn)\n",
    "mae = mean_absolute_error(y_test_sklearn, y_pred_sklearn)\n",
    "mse = mean_squared_error(y_test_sklearn, y_pred_sklearn)\n",
    "\n",
    "print(\"Sklearn Model - R2 Score:\", r2)\n",
    "print(\"Sklearn Model - MAE:\", mae)\n",
    "print(\"Sklearn Model - MSE:\", mse)\n",
    "\n",
    "scores_sklearn = cross_val_score(lin_reg_sklearn, X_train_scaled_sklearn, y_train_sklearn, cv=5, scoring=\"r2\")\n",
    "print(\"Cross-Validation R2 Scores:\", scores_sklearn)\n",
    "print(\"Average R2 Score:\", scores_sklearn.mean())"
   ],
   "id": "403656479fa6ff47",
   "outputs": [
    {
     "name": "stdout",
     "output_type": "stream",
     "text": [
      "Sklearn Model - R2 Score: 0.9984263636823413\n",
      "Sklearn Model - MAE: 8174.583600006653\n",
      "Sklearn Model - MSE: 101434798.50563647\n",
      "Sklearn Model - Score: 0.9984263636823413\n",
      "Cross-Validation R2 Scores: [0.99839569 0.99869845 0.99860403 0.99845366 0.99843125]\n",
      "Average R2 Score: 0.9985166137865891\n"
     ]
    }
   ],
   "execution_count": 21
  },
  {
   "metadata": {},
   "cell_type": "markdown",
   "source": "# Plots",
   "id": "8e85aec6adcb5338"
  },
  {
   "metadata": {},
   "cell_type": "code",
   "source": [
    "plt.plot(cost_history)\n",
    "plt.xlabel('Iterations')\n",
    "plt.ylabel('Cost')\n",
    "plt.title('Cost History')\n",
    "plt.show()"
   ],
   "id": "3dae3bd7c0caf35c",
   "outputs": [],
   "execution_count": null
  },
  {
   "metadata": {},
   "cell_type": "code",
   "source": [
    "plt.scatter(y_test, y_pred, alpha=0.5)\n",
    "plt.plot([min(y_test), max(y_test)], [min(y_test), max(y_test)], color='red', lw=2)  # Ideal line\n",
    "plt.xlabel('Actual House Prices')\n",
    "plt.ylabel('Predicted House Prices')\n",
    "plt.title('Actual vs Predicted House Prices')\n",
    "plt.show()"
   ],
   "id": "93e4914909a57f8a",
   "outputs": [],
   "execution_count": null
  },
  {
   "metadata": {},
   "cell_type": "code",
   "source": [
    "residuals = y_test - y_pred\n",
    "plt.scatter(y_test, residuals, color=\"purple\", alpha=0.6)\n",
    "plt.axhline(y=0, color=\"red\", linestyle=\"--\")\n",
    "plt.xlabel(\"Actual House Prices\")\n",
    "plt.ylabel(\"Residuals\")\n",
    "plt.title(\"Residuals vs. Actual House Prices\")\n",
    "plt.show()"
   ],
   "id": "ce05ef1850a3ca18",
   "outputs": [],
   "execution_count": null
  }
 ],
 "metadata": {
  "kernelspec": {
   "display_name": "Python 3",
   "language": "python",
   "name": "python3"
  },
  "language_info": {
   "codemirror_mode": {
    "name": "ipython",
    "version": 2
   },
   "file_extension": ".py",
   "mimetype": "text/x-python",
   "name": "python",
   "nbconvert_exporter": "python",
   "pygments_lexer": "ipython2",
   "version": "2.7.6"
  }
 },
 "nbformat": 4,
 "nbformat_minor": 5
}
