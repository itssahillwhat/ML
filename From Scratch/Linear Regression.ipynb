{
 "cells": [
  {
   "cell_type": "code",
   "id": "initial_id",
   "metadata": {
    "collapsed": true,
    "ExecuteTime": {
     "end_time": "2024-11-07T12:14:49.786484Z",
     "start_time": "2024-11-07T12:14:48.644841Z"
    }
   },
   "source": [
    "import numpy as np\n",
    "import pandas as pd\n",
    "\n",
    "data = pd.read_csv('house_price_regression_dataset.csv')\n",
    "data.head()"
   ],
   "outputs": [
    {
     "data": {
      "text/plain": [
       "   Square_Footage  Num_Bedrooms  Num_Bathrooms  Year_Built  Lot_Size  \\\n",
       "0            1360             2              1        1981  0.599637   \n",
       "1            4272             3              3        2016  4.753014   \n",
       "2            3592             1              2        2016  3.634823   \n",
       "3             966             1              2        1977  2.730667   \n",
       "4            4926             2              1        1993  4.699073   \n",
       "\n",
       "   Garage_Size  Neighborhood_Quality   House_Price  \n",
       "0            0                     5  2.623829e+05  \n",
       "1            1                     6  9.852609e+05  \n",
       "2            0                     9  7.779774e+05  \n",
       "3            1                     8  2.296989e+05  \n",
       "4            0                     8  1.041741e+06  "
      ],
      "text/html": [
       "<div>\n",
       "<style scoped>\n",
       "    .dataframe tbody tr th:only-of-type {\n",
       "        vertical-align: middle;\n",
       "    }\n",
       "\n",
       "    .dataframe tbody tr th {\n",
       "        vertical-align: top;\n",
       "    }\n",
       "\n",
       "    .dataframe thead th {\n",
       "        text-align: right;\n",
       "    }\n",
       "</style>\n",
       "<table border=\"1\" class=\"dataframe\">\n",
       "  <thead>\n",
       "    <tr style=\"text-align: right;\">\n",
       "      <th></th>\n",
       "      <th>Square_Footage</th>\n",
       "      <th>Num_Bedrooms</th>\n",
       "      <th>Num_Bathrooms</th>\n",
       "      <th>Year_Built</th>\n",
       "      <th>Lot_Size</th>\n",
       "      <th>Garage_Size</th>\n",
       "      <th>Neighborhood_Quality</th>\n",
       "      <th>House_Price</th>\n",
       "    </tr>\n",
       "  </thead>\n",
       "  <tbody>\n",
       "    <tr>\n",
       "      <th>0</th>\n",
       "      <td>1360</td>\n",
       "      <td>2</td>\n",
       "      <td>1</td>\n",
       "      <td>1981</td>\n",
       "      <td>0.599637</td>\n",
       "      <td>0</td>\n",
       "      <td>5</td>\n",
       "      <td>2.623829e+05</td>\n",
       "    </tr>\n",
       "    <tr>\n",
       "      <th>1</th>\n",
       "      <td>4272</td>\n",
       "      <td>3</td>\n",
       "      <td>3</td>\n",
       "      <td>2016</td>\n",
       "      <td>4.753014</td>\n",
       "      <td>1</td>\n",
       "      <td>6</td>\n",
       "      <td>9.852609e+05</td>\n",
       "    </tr>\n",
       "    <tr>\n",
       "      <th>2</th>\n",
       "      <td>3592</td>\n",
       "      <td>1</td>\n",
       "      <td>2</td>\n",
       "      <td>2016</td>\n",
       "      <td>3.634823</td>\n",
       "      <td>0</td>\n",
       "      <td>9</td>\n",
       "      <td>7.779774e+05</td>\n",
       "    </tr>\n",
       "    <tr>\n",
       "      <th>3</th>\n",
       "      <td>966</td>\n",
       "      <td>1</td>\n",
       "      <td>2</td>\n",
       "      <td>1977</td>\n",
       "      <td>2.730667</td>\n",
       "      <td>1</td>\n",
       "      <td>8</td>\n",
       "      <td>2.296989e+05</td>\n",
       "    </tr>\n",
       "    <tr>\n",
       "      <th>4</th>\n",
       "      <td>4926</td>\n",
       "      <td>2</td>\n",
       "      <td>1</td>\n",
       "      <td>1993</td>\n",
       "      <td>4.699073</td>\n",
       "      <td>0</td>\n",
       "      <td>8</td>\n",
       "      <td>1.041741e+06</td>\n",
       "    </tr>\n",
       "  </tbody>\n",
       "</table>\n",
       "</div>"
      ]
     },
     "execution_count": 1,
     "metadata": {},
     "output_type": "execute_result"
    }
   ],
   "execution_count": 1
  },
  {
   "metadata": {
    "ExecuteTime": {
     "end_time": "2024-11-07T12:15:25.508167Z",
     "start_time": "2024-11-07T12:15:25.488289Z"
    }
   },
   "cell_type": "code",
   "source": "data.isnull().sum()",
   "id": "96ad6382b1381e39",
   "outputs": [
    {
     "data": {
      "text/plain": [
       "Square_Footage          0\n",
       "Num_Bedrooms            0\n",
       "Num_Bathrooms           0\n",
       "Year_Built              0\n",
       "Lot_Size                0\n",
       "Garage_Size             0\n",
       "Neighborhood_Quality    0\n",
       "House_Price             0\n",
       "dtype: int64"
      ]
     },
     "execution_count": 4,
     "metadata": {},
     "output_type": "execute_result"
    }
   ],
   "execution_count": 4
  },
  {
   "metadata": {
    "ExecuteTime": {
     "end_time": "2024-11-07T12:15:01.889816Z",
     "start_time": "2024-11-07T12:15:01.871410Z"
    }
   },
   "cell_type": "code",
   "source": "data.info()",
   "id": "4af4bf2a166343c5",
   "outputs": [
    {
     "name": "stdout",
     "output_type": "stream",
     "text": [
      "<class 'pandas.core.frame.DataFrame'>\n",
      "RangeIndex: 1000 entries, 0 to 999\n",
      "Data columns (total 8 columns):\n",
      " #   Column                Non-Null Count  Dtype  \n",
      "---  ------                --------------  -----  \n",
      " 0   Square_Footage        1000 non-null   int64  \n",
      " 1   Num_Bedrooms          1000 non-null   int64  \n",
      " 2   Num_Bathrooms         1000 non-null   int64  \n",
      " 3   Year_Built            1000 non-null   int64  \n",
      " 4   Lot_Size              1000 non-null   float64\n",
      " 5   Garage_Size           1000 non-null   int64  \n",
      " 6   Neighborhood_Quality  1000 non-null   int64  \n",
      " 7   House_Price           1000 non-null   float64\n",
      "dtypes: float64(2), int64(6)\n",
      "memory usage: 62.6 KB\n"
     ]
    }
   ],
   "execution_count": 2
  },
  {
   "metadata": {
    "ExecuteTime": {
     "end_time": "2024-11-07T12:16:07.792229Z",
     "start_time": "2024-11-07T12:16:07.770376Z"
    }
   },
   "cell_type": "code",
   "source": "data.columns",
   "id": "5adb01ff311e8366",
   "outputs": [
    {
     "data": {
      "text/plain": [
       "Index(['Square_Footage', 'Num_Bedrooms', 'Num_Bathrooms', 'Year_Built',\n",
       "       'Lot_Size', 'Garage_Size', 'Neighborhood_Quality', 'House_Price'],\n",
       "      dtype='object')"
      ]
     },
     "execution_count": 5,
     "metadata": {},
     "output_type": "execute_result"
    }
   ],
   "execution_count": 5
  },
  {
   "metadata": {
    "ExecuteTime": {
     "end_time": "2024-11-07T12:26:00.064395Z",
     "start_time": "2024-11-07T12:26:00.056896Z"
    }
   },
   "cell_type": "code",
   "source": [
    "class LinearRegression:\n",
    "    def __init__(self, alpha=0.001, num_iter=5000):\n",
    "        self.alpha = alpha\n",
    "        self.num_iter = num_iter\n",
    "        self.theta = None\n",
    "        self.theta0 = 0\n",
    "        \n",
    "    def predict(self, X):\n",
    "        return np.dot(X, self.theta) + self.theta0\n",
    "    \n",
    "    def cost(self, X, y):\n",
    "        m = X.shape[0]\n",
    "        predictions = self.predict(X)\n",
    "        J_0 = np.sum((predictions - y) ** 2) / (2 * m)\n",
    "        return J_0\n",
    "    \n",
    "    def gradient(self, X, y):\n",
    "        m = X.shape[0]\n",
    "        predictions = self.predict(X)\n",
    "        error = predictions - y\n",
    "        \n",
    "        dj_d0 = np.sum(error) / m\n",
    "        dj_dtheta = np.dot(X.T, error) / m\n",
    "        \n",
    "        return dj_d0, dj_dtheta\n",
    "    \n",
    "    def gradient_descent(self, X, y):\n",
    "        cost_history = []\n",
    "        \n",
    "        for _ in range(self.num_iter):\n",
    "            dj_d0, dj_dtheta = self.gradient(X, y)\n",
    "            \n",
    "            self.theta0 -= self.alpha * dj_d0\n",
    "            self.theta -= self.alpha * dj_dtheta\n",
    "            \n",
    "            cost = self.cost(X, y)\n",
    "            cost_history.append(cost)\n",
    "        \n",
    "        return self.theta, self.theta0, cost_history"
   ],
   "id": "8ecf55e29c5399b5",
   "outputs": [],
   "execution_count": 27
  },
  {
   "metadata": {
    "ExecuteTime": {
     "end_time": "2024-11-07T12:26:32.804019Z",
     "start_time": "2024-11-07T12:26:32.740214Z"
    }
   },
   "cell_type": "code",
   "source": [
    "columns = ['Square_Footage', 'Num_Bedrooms', 'Num_Bathrooms', 'Year_Built',\n",
    "       'Lot_Size', 'Garage_Size', 'Neighborhood_Quality']\n",
    "\n",
    "m = 100  \n",
    "n = 3    \n",
    "X = data[columns].astype('float').values\n",
    "y = data['House_Price'].astype('float').values\n",
    "X_scaled = (X - np.mean(X, axis=0)) / np.std(X, axis=0)\n",
    "\n",
    "model = LinearRegression(alpha=0.01, num_iter=1500)\n",
    "model.theta = np.zeros(X_scaled.shape[1])\n",
    "theta, theta0, cost_history = model.gradient_descent(X_scaled, y)\n",
    "\n",
    "print(\"Optimized theta:\", model.theta)\n",
    "print(\"Optimized theta0:\", model.theta0)\n",
    "print(\"Final cost:\", cost_history[-1])"
   ],
   "id": "63b2e1f8be8637bb",
   "outputs": [
    {
     "name": "stdout",
     "output_type": "stream",
     "text": [
      "Optimized theta: [2.50671499e+05 1.45122638e+04 6.75978784e+03 2.04466473e+04\n",
      " 1.93543125e+04 4.20172526e+03 2.32558413e+02]\n",
      "Optimized theta0: 618860.8431031586\n",
      "Final cost: 47624545.22242306\n"
     ]
    }
   ],
   "execution_count": 28
  },
  {
   "metadata": {
    "ExecuteTime": {
     "end_time": "2024-11-07T12:26:34.026782Z",
     "start_time": "2024-11-07T12:26:33.886189Z"
    }
   },
   "cell_type": "code",
   "source": [
    "import matplotlib.pyplot as plt\n",
    "plt.plot(cost_history)\n",
    "plt.xlabel('Iterations')\n",
    "plt.ylabel('Cost')\n",
    "plt.title('Cost History')\n",
    "plt.show()"
   ],
   "id": "3dae3bd7c0caf35c",
   "outputs": [
    {
     "data": {
      "text/plain": [
       "<Figure size 640x480 with 1 Axes>"
      ],
      "image/png": "[encoded data removed]"
     },
     "metadata": {},
     "output_type": "display_data"
    }
   ],
   "execution_count": 29
  },
  {
   "metadata": {},
   "cell_type": "code",
   "outputs": [],
   "execution_count": null,
   "source": "",
   "id": "8ec1ad2a735ee21d"
  }
 ],
 "metadata": {
  "kernelspec": {
   "display_name": "Python 3",
   "language": "python",
   "name": "python3"
  },
  "language_info": {
   "codemirror_mode": {
    "name": "ipython",
    "version": 2
   },
   "file_extension": ".py",
   "mimetype": "text/x-python",
   "name": "python",
   "nbconvert_exporter": "python",
   "pygments_lexer": "ipython2",
   "version": "2.7.6"
  }
 },
 "nbformat": 4,
 "nbformat_minor": 5
}
