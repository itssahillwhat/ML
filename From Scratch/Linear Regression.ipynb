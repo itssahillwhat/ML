{
 "cells": [
  {
   "cell_type": "code",
   "id": "initial_id",
   "metadata": {
    "collapsed": true,
    "ExecuteTime": {
     "end_time": "2024-11-07T13:00:57.011865Z",
     "start_time": "2024-11-07T13:00:56.994747Z"
    }
   },
   "source": [
    "import numpy as np\n",
    "import pandas as pd\n",
    "import matplotlib.pyplot as plt"
   ],
   "outputs": [],
   "execution_count": 1
  },
  {
   "metadata": {
    "ExecuteTime": {
     "end_time": "2024-11-07T13:00:57.811407Z",
     "start_time": "2024-11-07T13:00:57.773452Z"
    }
   },
   "cell_type": "code",
   "source": [
    "data = pd.read_csv('house_price_regression_dataset.csv')\n",
    "data.head()"
   ],
   "id": "297ec78b4758c627",
   "outputs": [
    {
     "data": {
      "text/plain": [
       "   Square_Footage  Num_Bedrooms  Num_Bathrooms  Year_Built  Lot_Size  \\\n",
       "0            1360             2              1        1981  0.599637   \n",
       "1            4272             3              3        2016  4.753014   \n",
       "2            3592             1              2        2016  3.634823   \n",
       "3             966             1              2        1977  2.730667   \n",
       "4            4926             2              1        1993  4.699073   \n",
       "\n",
       "   Garage_Size  Neighborhood_Quality   House_Price  \n",
       "0            0                     5  2.623829e+05  \n",
       "1            1                     6  9.852609e+05  \n",
       "2            0                     9  7.779774e+05  \n",
       "3            1                     8  2.296989e+05  \n",
       "4            0                     8  1.041741e+06  "
      ],
      "text/html": [
       "<div>\n",
       "<style scoped>\n",
       "    .dataframe tbody tr th:only-of-type {\n",
       "        vertical-align: middle;\n",
       "    }\n",
       "\n",
       "    .dataframe tbody tr th {\n",
       "        vertical-align: top;\n",
       "    }\n",
       "\n",
       "    .dataframe thead th {\n",
       "        text-align: right;\n",
       "    }\n",
       "</style>\n",
       "<table border=\"1\" class=\"dataframe\">\n",
       "  <thead>\n",
       "    <tr style=\"text-align: right;\">\n",
       "      <th></th>\n",
       "      <th>Square_Footage</th>\n",
       "      <th>Num_Bedrooms</th>\n",
       "      <th>Num_Bathrooms</th>\n",
       "      <th>Year_Built</th>\n",
       "      <th>Lot_Size</th>\n",
       "      <th>Garage_Size</th>\n",
       "      <th>Neighborhood_Quality</th>\n",
       "      <th>House_Price</th>\n",
       "    </tr>\n",
       "  </thead>\n",
       "  <tbody>\n",
       "    <tr>\n",
       "      <th>0</th>\n",
       "      <td>1360</td>\n",
       "      <td>2</td>\n",
       "      <td>1</td>\n",
       "      <td>1981</td>\n",
       "      <td>0.599637</td>\n",
       "      <td>0</td>\n",
       "      <td>5</td>\n",
       "      <td>2.623829e+05</td>\n",
       "    </tr>\n",
       "    <tr>\n",
       "      <th>1</th>\n",
       "      <td>4272</td>\n",
       "      <td>3</td>\n",
       "      <td>3</td>\n",
       "      <td>2016</td>\n",
       "      <td>4.753014</td>\n",
       "      <td>1</td>\n",
       "      <td>6</td>\n",
       "      <td>9.852609e+05</td>\n",
       "    </tr>\n",
       "    <tr>\n",
       "      <th>2</th>\n",
       "      <td>3592</td>\n",
       "      <td>1</td>\n",
       "      <td>2</td>\n",
       "      <td>2016</td>\n",
       "      <td>3.634823</td>\n",
       "      <td>0</td>\n",
       "      <td>9</td>\n",
       "      <td>7.779774e+05</td>\n",
       "    </tr>\n",
       "    <tr>\n",
       "      <th>3</th>\n",
       "      <td>966</td>\n",
       "      <td>1</td>\n",
       "      <td>2</td>\n",
       "      <td>1977</td>\n",
       "      <td>2.730667</td>\n",
       "      <td>1</td>\n",
       "      <td>8</td>\n",
       "      <td>2.296989e+05</td>\n",
       "    </tr>\n",
       "    <tr>\n",
       "      <th>4</th>\n",
       "      <td>4926</td>\n",
       "      <td>2</td>\n",
       "      <td>1</td>\n",
       "      <td>1993</td>\n",
       "      <td>4.699073</td>\n",
       "      <td>0</td>\n",
       "      <td>8</td>\n",
       "      <td>1.041741e+06</td>\n",
       "    </tr>\n",
       "  </tbody>\n",
       "</table>\n",
       "</div>"
      ]
     },
     "execution_count": 2,
     "metadata": {},
     "output_type": "execute_result"
    }
   ],
   "execution_count": 2
  },
  {
   "metadata": {
    "ExecuteTime": {
     "end_time": "2024-11-07T13:00:58.234452Z",
     "start_time": "2024-11-07T13:00:58.217179Z"
    }
   },
   "cell_type": "code",
   "source": "data.isnull().sum()",
   "id": "96ad6382b1381e39",
   "outputs": [
    {
     "data": {
      "text/plain": [
       "Square_Footage          0\n",
       "Num_Bedrooms            0\n",
       "Num_Bathrooms           0\n",
       "Year_Built              0\n",
       "Lot_Size                0\n",
       "Garage_Size             0\n",
       "Neighborhood_Quality    0\n",
       "House_Price             0\n",
       "dtype: int64"
      ]
     },
     "execution_count": 3,
     "metadata": {},
     "output_type": "execute_result"
    }
   ],
   "execution_count": 3
  },
  {
   "metadata": {
    "ExecuteTime": {
     "end_time": "2024-11-07T13:00:58.686676Z",
     "start_time": "2024-11-07T13:00:58.665339Z"
    }
   },
   "cell_type": "code",
   "source": "data.info()",
   "id": "4af4bf2a166343c5",
   "outputs": [
    {
     "name": "stdout",
     "output_type": "stream",
     "text": [
      "<class 'pandas.core.frame.DataFrame'>\n",
      "RangeIndex: 1000 entries, 0 to 999\n",
      "Data columns (total 8 columns):\n",
      " #   Column                Non-Null Count  Dtype  \n",
      "---  ------                --------------  -----  \n",
      " 0   Square_Footage        1000 non-null   int64  \n",
      " 1   Num_Bedrooms          1000 non-null   int64  \n",
      " 2   Num_Bathrooms         1000 non-null   int64  \n",
      " 3   Year_Built            1000 non-null   int64  \n",
      " 4   Lot_Size              1000 non-null   float64\n",
      " 5   Garage_Size           1000 non-null   int64  \n",
      " 6   Neighborhood_Quality  1000 non-null   int64  \n",
      " 7   House_Price           1000 non-null   float64\n",
      "dtypes: float64(2), int64(6)\n",
      "memory usage: 62.6 KB\n"
     ]
    }
   ],
   "execution_count": 4
  },
  {
   "metadata": {
    "ExecuteTime": {
     "end_time": "2024-11-07T13:00:59.096691Z",
     "start_time": "2024-11-07T13:00:59.085598Z"
    }
   },
   "cell_type": "code",
   "source": [
    "train_data = data.loc[:900,:]\n",
    "X = train_data.drop([\"House_Price\"],axis=1)\n",
    "y = train_data[\"House_Price\"]\n",
    "test_data = data.loc[900:,:]\n",
    "x2 = test_data.drop([\"House_Price\"],axis=1)\n",
    "y2 = test_data[\"House_Price\"]"
   ],
   "id": "b471958879077315",
   "outputs": [],
   "execution_count": 5
  },
  {
   "metadata": {},
   "cell_type": "markdown",
   "source": "# From Scratch",
   "id": "e9342bedc1364dd5"
  },
  {
   "metadata": {
    "ExecuteTime": {
     "end_time": "2024-11-07T13:01:00.317252Z",
     "start_time": "2024-11-07T13:01:00.300379Z"
    }
   },
   "cell_type": "code",
   "source": [
    "class LinearRegressions:\n",
    "    def __init__(self, alpha=0.001, num_iter=5000):\n",
    "        self.alpha = alpha\n",
    "        self.num_iter = num_iter\n",
    "        self.theta = None\n",
    "        self.theta0 = 0\n",
    "        \n",
    "    def predict(self, X):\n",
    "        return np.dot(X, self.theta) + self.theta0\n",
    "    \n",
    "    def cost(self, X, y):\n",
    "        m = X.shape[0]\n",
    "        predictions = self.predict(X)\n",
    "        J_0 = np.sum((predictions - y) ** 2) / (2 * m)\n",
    "        return J_0\n",
    "    \n",
    "    def gradient(self, X, y):\n",
    "        m = X.shape[0]\n",
    "        predictions = self.predict(X)\n",
    "        error = predictions - y\n",
    "        \n",
    "        dj_d0 = np.sum(error) / m\n",
    "        dj_dtheta = np.dot(X.T, error) / m\n",
    "        \n",
    "        return dj_d0, dj_dtheta\n",
    "    \n",
    "    def gradient_descent(self, X, y):\n",
    "        cost_history = []\n",
    "        \n",
    "        for _ in range(self.num_iter):\n",
    "            dj_d0, dj_dtheta = self.gradient(X, y)\n",
    "            \n",
    "            self.theta0 -= self.alpha * dj_d0\n",
    "            self.theta -= self.alpha * dj_dtheta\n",
    "            \n",
    "            cost = self.cost(X, y)\n",
    "            cost_history.append(cost)\n",
    "        \n",
    "        return self.theta, self.theta0, cost_history"
   ],
   "id": "8ecf55e29c5399b5",
   "outputs": [],
   "execution_count": 6
  },
  {
   "metadata": {
    "ExecuteTime": {
     "end_time": "2024-11-07T13:01:02.483508Z",
     "start_time": "2024-11-07T13:01:00.807948Z"
    }
   },
   "cell_type": "code",
   "source": [
    "m = 100  \n",
    "n = 3    \n",
    "X_scaled = (X - np.mean(X, axis=0)) / np.std(X, axis=0)\n",
    "\n",
    "model = LinearRegressions(alpha=0.01, num_iter=1500)\n",
    "model.theta = np.zeros(X_scaled.shape[1])\n",
    "theta, theta0, cost_history = model.gradient_descent(X_scaled, y)\n",
    "\n",
    "print(\"Optimized theta:\", model.theta)\n",
    "print(\"Optimized theta0:\", model.theta0)\n",
    "print(\"Final cost:\", cost_history[-1])"
   ],
   "id": "63b2e1f8be8637bb",
   "outputs": [
    {
     "name": "stdout",
     "output_type": "stream",
     "text": [
      "Optimized theta: [250008.88545399  14595.19335921   6712.02789505  20279.56239315\n",
      "  19221.13536466   4157.84631234    358.48154013]\n",
      "Optimized theta0: 615883.8566282354\n",
      "Final cost: 48056057.54646708\n"
     ]
    }
   ],
   "execution_count": 7
  },
  {
   "metadata": {},
   "cell_type": "markdown",
   "source": "# Using Sklearn",
   "id": "ef3d5790b588430c"
  },
  {
   "metadata": {
    "ExecuteTime": {
     "end_time": "2024-11-07T13:01:02.853354Z",
     "start_time": "2024-11-07T13:01:02.591493Z"
    }
   },
   "cell_type": "code",
   "source": [
    "from sklearn.linear_model import LinearRegression\n",
    "model = LinearRegression()\n",
    "model.fit(X_scaled,y)\n",
    "print(model.score(X_scaled,y))"
   ],
   "id": "fe02fa9d019333da",
   "outputs": [
    {
     "name": "stdout",
     "output_type": "stream",
     "text": [
      "0.99849748342585\n"
     ]
    }
   ],
   "execution_count": 8
  },
  {
   "metadata": {
    "ExecuteTime": {
     "end_time": "2024-11-07T13:01:02.988915Z",
     "start_time": "2024-11-07T13:01:02.976562Z"
    }
   },
   "cell_type": "code",
   "source": [
    "from sklearn.metrics import r2_score, mean_absolute_error, mean_squared_error\n",
    "import numpy as np\n",
    "\n",
    "# Predictions\n",
    "predictions = model.predict(X_scaled)\n",
    "\n",
    "# Calculate metrics\n",
    "r2 = r2_score(y, predictions)\n",
    "mae = mean_absolute_error(y, predictions)\n",
    "mse = mean_squared_error(y, predictions)\n",
    "rmse = np.sqrt(mse)\n",
    "\n",
    "print(\"R-squared (R²):\", r2)\n",
    "print(\"Mean Absolute Error (MAE):\", mae)\n",
    "print(\"Mean Squared Error (MSE):\", mse)\n",
    "print(\"Root Mean Squared Error (RMSE):\", rmse)"
   ],
   "id": "f253a4c400b4b3a9",
   "outputs": [
    {
     "name": "stdout",
     "output_type": "stream",
     "text": [
      "R-squared (R²): 0.99849748342585\n",
      "Mean Absolute Error (MAE): 7771.395798023379\n",
      "Mean Squared Error (MSE): 96112114.96263263\n",
      "Root Mean Squared Error (RMSE): 9803.678644398367\n"
     ]
    }
   ],
   "execution_count": 9
  },
  {
   "metadata": {},
   "cell_type": "markdown",
   "source": "# Plots",
   "id": "8e85aec6adcb5338"
  },
  {
   "metadata": {
    "ExecuteTime": {
     "end_time": "2024-11-07T13:01:04.504630Z",
     "start_time": "2024-11-07T13:01:04.282073Z"
    }
   },
   "cell_type": "code",
   "source": [
    "plt.plot(cost_history)\n",
    "plt.xlabel('Iterations')\n",
    "plt.ylabel('Cost')\n",
    "plt.title('Cost History')\n",
    "plt.show()"
   ],
   "id": "3dae3bd7c0caf35c",
   "outputs": [
    {
     "data": {
      "text/plain": [
       "<Figure size 640x480 with 1 Axes>"
      ],
      "image/png": "[encoded data removed]"
     },
     "metadata": {},
     "output_type": "display_data"
    }
   ],
   "execution_count": 10
  }
 ],
 "metadata": {
  "kernelspec": {
   "display_name": "Python 3",
   "language": "python",
   "name": "python3"
  },
  "language_info": {
   "codemirror_mode": {
    "name": "ipython",
    "version": 2
   },
   "file_extension": ".py",
   "mimetype": "text/x-python",
   "name": "python",
   "nbconvert_exporter": "python",
   "pygments_lexer": "ipython2",
   "version": "2.7.6"
  }
 },
 "nbformat": 4,
 "nbformat_minor": 5
}
