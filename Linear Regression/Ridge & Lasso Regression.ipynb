{
 "cells": [
  {
   "metadata": {},
   "cell_type": "markdown",
   "source": [
    "## Algerian Forest Fires Dataset\n",
    "Data Set Information:\n",
    "\n",
    "The dataset includes 244 instances that regroup a data of two regions of Algeria,namely the Bejaia region located in the northeast of Algeria and the Sidi Bel-abbes region located in the northwest of Algeria.\n",
    "\n",
    "122 instances for each region.\n",
    "\n",
    "The period from June 2012 to September 2012. The dataset includes 11 attribues and 1 output attribue (class) The 244 instances have been classified into fire(138 classes) and not fire (106 classes) classes.\n",
    "\n",
    "Attribute Information:\n",
    "\n",
    "Date : (DD/MM/YYYY) Day, month ('june' to 'september'), year (2012) Weather data observations\n",
    "\n",
    "Temp : temperature noon (temperature max) in Celsius degrees: 22 to 42\n",
    "\n",
    "RH : Relative Humidity in %: 21 to 90\n",
    "\n",
    "Ws :Wind speed in km/h: 6 to 29\n",
    "\n",
    "Rain: total day in mm: 0 to 16.8 FWI Components\n",
    "\n",
    "Fine Fuel Moisture Code (FFMC) index from the FWI system: 28.6 to 92.5\n",
    "\n",
    "Duff Moisture Code (DMC) index from the FWI system: 1.1 to 65.9\n",
    "\n",
    "Drought Code (DC) index from the FWI system: 7 to 220.4\n",
    "\n",
    "Initial Spread Index (ISI) index from the FWI system: 0 to 18.5\n",
    "\n",
    "Buildup Index (BUI) index from the FWI system: 1.1 to 68\n",
    "\n",
    "Fire Weather Index (FWI) Index: 0 to 31.1\n",
    "\n",
    "Classes: two classes, namely Fire and not Fire"
   ],
   "id": "ef4870dec41de729"
  },
  {
   "cell_type": "code",
   "id": "initial_id",
   "metadata": {
    "collapsed": true
   },
   "source": [
    "import warnings\n",
    "import numpy as np\n",
    "import pandas as pd\n",
    "import seaborn as sns\n",
    "import statsmodels.api as sm\n",
    "import matplotlib.pyplot as plt\n",
    "\n",
    "from sklearn.preprocessing import StandardScaler, PolynomialFeatures\n",
    "from sklearn.linear_model import LinearRegression\n",
    "from sklearn.pipeline import Pipeline\n",
    "from sklearn.model_selection import train_test_split, cross_val_score\n",
    "from sklearn.metrics import mean_squared_error, r2_score, mean_absolute_error\n",
    "warnings.filterwarnings(\"ignore\")\n",
    "%matplotlib inline"
   ],
   "outputs": [],
   "execution_count": null
  },
  {
   "metadata": {},
   "cell_type": "code",
   "source": [
    "df = pd.read_csv(\"Algerian_forest_fires_dataset.csv\", header=1)\n",
    "df.head()"
   ],
   "id": "87bf7bcde5f59a26",
   "outputs": [],
   "execution_count": null
  },
  {
   "metadata": {},
   "cell_type": "code",
   "source": "df.info()",
   "id": "a42a4e0e327395b6",
   "outputs": [],
   "execution_count": null
  },
  {
   "metadata": {},
   "cell_type": "code",
   "source": "df[df.isnull().any(axis=1)]",
   "id": "d7c548d23e69063e",
   "outputs": [],
   "execution_count": null
  },
  {
   "metadata": {},
   "cell_type": "code",
   "source": [
    "df.loc[:122,\"Region\"] = 0\n",
    "df.loc[122:,\"Region\"] = 1"
   ],
   "id": "da3bace6b16a599f",
   "outputs": [],
   "execution_count": null
  },
  {
   "metadata": {},
   "cell_type": "code",
   "source": [
    "df[['Region']] = df[['Region']].astype(int)\n",
    "df.head()"
   ],
   "id": "4080d05ccbcbd724",
   "outputs": [],
   "execution_count": null
  },
  {
   "metadata": {},
   "cell_type": "code",
   "source": "df.isnull().sum()",
   "id": "db9239009d277b1c",
   "outputs": [],
   "execution_count": null
  },
  {
   "metadata": {},
   "cell_type": "code",
   "source": "df = df.dropna().reset_index(drop=True)",
   "id": "c1260847e8ac6703",
   "outputs": [],
   "execution_count": null
  },
  {
   "metadata": {},
   "cell_type": "code",
   "source": "df.isna().sum()",
   "id": "602c25f2ba480d5a",
   "outputs": [],
   "execution_count": null
  },
  {
   "metadata": {},
   "cell_type": "code",
   "source": "df.isnull().sum()",
   "id": "cd5306ccf83112d",
   "outputs": [],
   "execution_count": null
  },
  {
   "metadata": {},
   "cell_type": "code",
   "source": "df.iloc[[122]]",
   "id": "e5397572801cfad6",
   "outputs": [],
   "execution_count": null
  },
  {
   "metadata": {},
   "cell_type": "code",
   "source": "df = df.drop(122).reset_index(drop=True)",
   "id": "cccc55cc6a3f0d94",
   "outputs": [],
   "execution_count": null
  },
  {
   "metadata": {},
   "cell_type": "code",
   "source": "df.iloc[[122]]",
   "id": "c649228ebe4f2f3d",
   "outputs": [],
   "execution_count": null
  },
  {
   "metadata": {},
   "cell_type": "code",
   "source": "df.columns",
   "id": "3d3d0beea3ff765f",
   "outputs": [],
   "execution_count": null
  },
  {
   "metadata": {},
   "cell_type": "code",
   "source": [
    "df.columns = df.columns.str.strip()\n",
    "df.columns"
   ],
   "id": "61a872480c49dc00",
   "outputs": [],
   "execution_count": null
  },
  {
   "metadata": {},
   "cell_type": "code",
   "source": "df[['month','day','year','Temperature','RH','Ws']]=df[['month','day','year','Temperature','RH','Ws']].astype(int)",
   "id": "daea4709b71e9dfc",
   "outputs": [],
   "execution_count": null
  },
  {
   "metadata": {},
   "cell_type": "code",
   "source": "df.info()",
   "id": "f309b4b1fd798bb2",
   "outputs": [],
   "execution_count": null
  },
  {
   "metadata": {},
   "cell_type": "code",
   "source": "df[['Rain']] = df[['Rain']].astype('object')",
   "id": "61b540bd731875d0",
   "outputs": [],
   "execution_count": null
  },
  {
   "metadata": {},
   "cell_type": "code",
   "source": "df.info()",
   "id": "e9ee8d06a827a779",
   "outputs": [],
   "execution_count": null
  },
  {
   "metadata": {},
   "cell_type": "code",
   "source": "objects = [features for features in df.columns if df[features].dtype == 'O']",
   "id": "d9976c8542835cea",
   "outputs": [],
   "execution_count": null
  },
  {
   "metadata": {},
   "cell_type": "code",
   "source": [
    "for i in objects:\n",
    "    if i != \"Classes\":\n",
    "        df[i] = df[i].astype(float)"
   ],
   "id": "309e610f98e190d6",
   "outputs": [],
   "execution_count": null
  },
  {
   "metadata": {},
   "cell_type": "code",
   "source": "df.info()",
   "id": "faa684851772180b",
   "outputs": [],
   "execution_count": null
  },
  {
   "metadata": {},
   "cell_type": "code",
   "source": "df.to_csv(\"Algerian_forest_fires_dataset_cleaned.csv\", index=False)",
   "id": "27128a69eae255da",
   "outputs": [],
   "execution_count": null
  },
  {
   "metadata": {},
   "cell_type": "code",
   "source": "df_copy = df.drop(columns=['day', 'month', 'year'])",
   "id": "e70ee7f8076b8308",
   "outputs": [],
   "execution_count": null
  },
  {
   "metadata": {},
   "cell_type": "code",
   "source": "df_copy.head()",
   "id": "55f6e4745471c87a",
   "outputs": [],
   "execution_count": null
  },
  {
   "metadata": {},
   "cell_type": "code",
   "source": [
    "df_copy['Classes'] = np.where(df_copy['Classes'].str.contains('not fire'), 0, 1)\n",
    "df_copy.head()"
   ],
   "id": "9d10ccdfe3294689",
   "outputs": [],
   "execution_count": null
  },
  {
   "metadata": {},
   "cell_type": "code",
   "source": "df_copy['Classes'].value_counts()",
   "id": "acc63660b68809ca",
   "outputs": [],
   "execution_count": null
  },
  {
   "metadata": {},
   "cell_type": "code",
   "source": [
    "plt.style.use('seaborn-v0_8-darkgrid')\n",
    "df_copy.hist(bins=50,figsize=(20,15))\n",
    "plt.show()"
   ],
   "id": "15ce77eb566ba2d2",
   "outputs": [],
   "execution_count": null
  },
  {
   "metadata": {},
   "cell_type": "code",
   "source": "percentage=df_copy['Classes'].value_counts(normalize=True)*100",
   "id": "3d4cdd4174321219",
   "outputs": [],
   "execution_count": null
  },
  {
   "metadata": {},
   "cell_type": "code",
   "source": [
    "classlabels=[\"Fire\",\"Not Fire\"]\n",
    "plt.figure(figsize=(12,7))\n",
    "plt.pie(percentage,labels=classlabels,autopct='%1.1f%%')\n",
    "plt.title(\"Pie Chart of Classes\")\n",
    "plt.show()"
   ],
   "id": "80121a6d67035bb9",
   "outputs": [],
   "execution_count": null
  },
  {
   "metadata": {},
   "cell_type": "code",
   "source": "df_copy.corr()",
   "id": "67152d84548f5e98",
   "outputs": [],
   "execution_count": null
  },
  {
   "metadata": {},
   "cell_type": "code",
   "source": "sns.heatmap(df_copy.corr())",
   "id": "fe8774a9634092db",
   "outputs": [],
   "execution_count": null
  },
  {
   "metadata": {},
   "cell_type": "code",
   "source": "sns.boxplot(df['FWI'],color='green')",
   "id": "49c185ed8e479492",
   "outputs": [],
   "execution_count": null
  },
  {
   "metadata": {},
   "cell_type": "code",
   "source": "df.head()",
   "id": "9dc4a87c693dee8d",
   "outputs": [],
   "execution_count": null
  },
  {
   "metadata": {},
   "cell_type": "code",
   "source": "df['Classes']=np.where(df['Classes'].str.contains('not fire'),'not fire','fire')",
   "id": "83c74d8569648c60",
   "outputs": [],
   "execution_count": null
  },
  {
   "metadata": {},
   "cell_type": "code",
   "source": [
    "dftemp=df.loc[df['Region']==1]\n",
    "plt.subplots(figsize=(13,6))\n",
    "sns.set_style('whitegrid')\n",
    "sns.countplot(x='month',hue='Classes',data=df)\n",
    "plt.ylabel('Number of Fires',weight='bold')\n",
    "plt.xlabel('Months',weight='bold')\n",
    "plt.title(\"Fire Analysis of Sidi- Bel Regions\",weight='bold')"
   ],
   "id": "c8568fdb6a8446f7",
   "outputs": [],
   "execution_count": null
  },
  {
   "metadata": {},
   "cell_type": "code",
   "source": [
    "dftemp=df.loc[df['Region']==0]\n",
    "plt.subplots(figsize=(13,6))\n",
    "sns.set_style('whitegrid')\n",
    "sns.countplot(x='month',hue='Classes',data=df)\n",
    "plt.ylabel('Number of Fires',weight='bold')\n",
    "plt.xlabel('Months',weight='bold')\n",
    "plt.title(\"Fire Analysis of Brjaia Regions\",weight='bold')"
   ],
   "id": "f20e78af4f366194",
   "outputs": [],
   "execution_count": null
  },
  {
   "metadata": {},
   "cell_type": "code",
   "source": "df.columns",
   "id": "10766e20d40614b4",
   "outputs": [],
   "execution_count": null
  },
  {
   "metadata": {},
   "cell_type": "code",
   "source": "df.drop(['day','month','year'],axis=1,inplace=True)",
   "id": "f90bb72e945fd15c",
   "outputs": [],
   "execution_count": null
  },
  {
   "metadata": {},
   "cell_type": "code",
   "source": "df.head()",
   "id": "3ccf3f71d04f146f",
   "outputs": [],
   "execution_count": null
  },
  {
   "metadata": {},
   "cell_type": "code",
   "source": "df['Classes'].value_counts()",
   "id": "7ff697703a9ffea9",
   "outputs": [],
   "execution_count": null
  },
  {
   "metadata": {},
   "cell_type": "code",
   "source": "df.head()",
   "id": "a02e57714e632fe8",
   "outputs": [],
   "execution_count": null
  },
  {
   "metadata": {},
   "cell_type": "code",
   "source": "df['Classes'] = np.where(df['Classes'].str.contains('not fire'), 0, 1)",
   "id": "6d85ab235441b4cf",
   "outputs": [],
   "execution_count": null
  },
  {
   "metadata": {},
   "cell_type": "code",
   "source": "df['Classes'].value_counts()",
   "id": "5029a9cbe4ea4146",
   "outputs": [],
   "execution_count": null
  },
  {
   "metadata": {},
   "cell_type": "code",
   "source": [
    "X = df.drop('FWI', axis=1)\n",
    "y = df['FWI']"
   ],
   "id": "6a63ab667b3739df",
   "outputs": [],
   "execution_count": null
  },
  {
   "metadata": {},
   "cell_type": "code",
   "source": "X",
   "id": "eb6fc598fcb6d5df",
   "outputs": [],
   "execution_count": null
  },
  {
   "metadata": {},
   "cell_type": "code",
   "source": "y",
   "id": "cf5f9a95d421a950",
   "outputs": [],
   "execution_count": null
  },
  {
   "metadata": {},
   "cell_type": "code",
   "source": "X_train, X_test, y_train, y_test = train_test_split(X, y, test_size=0.25, random_state=42)",
   "id": "49d79d97ae036ffb",
   "outputs": [],
   "execution_count": null
  },
  {
   "metadata": {},
   "cell_type": "code",
   "source": "X_train.shape, X_test.shape, y_train.shape, y_test.shape",
   "id": "6d23f016447732c1",
   "outputs": [],
   "execution_count": null
  },
  {
   "metadata": {},
   "cell_type": "code",
   "source": "X_train.corr()",
   "id": "c8b6bcb590821692",
   "outputs": [],
   "execution_count": null
  },
  {
   "metadata": {},
   "cell_type": "code",
   "source": [
    "plt.figure(figsize=(12,10))\n",
    "corr=X_train.corr()\n",
    "sns.heatmap(corr,annot=True)"
   ],
   "id": "f18f7ece81bfeed2",
   "outputs": [],
   "execution_count": null
  },
  {
   "metadata": {},
   "cell_type": "code",
   "source": [
    "def correlation(dataset, threshold):\n",
    "    col_corr = set()\n",
    "    corr_matrix = dataset.corr()\n",
    "    for i in range(len(corr_matrix.columns)):\n",
    "        for j in range(i):\n",
    "            if abs(corr_matrix.iloc[i, j]) > threshold:\n",
    "                colname = corr_matrix.columns[i]\n",
    "                col_corr.add(colname)\n",
    "    return col_corr"
   ],
   "id": "b22faba279c20153",
   "outputs": [],
   "execution_count": null
  },
  {
   "metadata": {},
   "cell_type": "code",
   "source": "corr_features=correlation(X_train,0.85)",
   "id": "2ddb8f2aa87bcda1",
   "outputs": [],
   "execution_count": null
  },
  {
   "metadata": {},
   "cell_type": "code",
   "source": [
    "X_train.drop(corr_features,axis=1,inplace=True)\n",
    "X_test.drop(corr_features,axis=1,inplace=True)\n",
    "X_train.shape,X_test.shape"
   ],
   "id": "cbe355ce39b1235b",
   "outputs": [],
   "execution_count": null
  },
  {
   "metadata": {},
   "cell_type": "code",
   "source": [
    "from sklearn.preprocessing import StandardScaler\n",
    "scaler=StandardScaler()\n",
    "X_train_scaled=scaler.fit_transform(X_train)\n",
    "X_test_scaled=scaler.transform(X_test)"
   ],
   "id": "383dbbb0cca30272",
   "outputs": [],
   "execution_count": null
  },
  {
   "metadata": {},
   "cell_type": "code",
   "source": "X_train_scaled",
   "id": "9b74f3849354e7f3",
   "outputs": [],
   "execution_count": null
  },
  {
   "metadata": {},
   "cell_type": "code",
   "source": [
    "plt.subplots(figsize=(15, 5))\n",
    "plt.subplot(1, 2, 1)\n",
    "sns.boxplot(data=X_train)\n",
    "plt.title('X_train Before Scaling')\n",
    "plt.subplot(1, 2, 2)\n",
    "sns.boxplot(data=X_train_scaled)\n",
    "plt.title('X_train After Scaling')"
   ],
   "id": "b766ab496542dc",
   "outputs": [],
   "execution_count": null
  },
  {
   "metadata": {
    "ExecuteTime": {
     "end_time": "2024-11-16T11:46:46.400232Z",
     "start_time": "2024-11-16T11:46:46.393446Z"
    }
   },
   "cell_type": "code",
   "source": [
    "regression = LinearRegression(n_jobs=-1)\n",
    "regression.fit(X_train_scaled, y_train)\n",
    "\n",
    "print(\"Coefficient or slope:\", regression.coef_)\n",
    "print(\"Intercept:\", regression.intercept_)"
   ],
   "id": "51d63957eed894ba",
   "outputs": [
    {
     "name": "stdout",
     "output_type": "stream",
     "text": [
      "Coefficient or slope: [-0.03634495 -0.17441065  0.00703214 -0.04108155 -0.82319823  3.6982583\n",
      "  4.84057298  0.40422124 -0.39259928]\n",
      "Intercept: 7.156043956043957\n"
     ]
    }
   ],
   "execution_count": 150
  },
  {
   "metadata": {
    "ExecuteTime": {
     "end_time": "2024-11-16T11:47:00.943501Z",
     "start_time": "2024-11-16T11:47:00.924296Z"
    }
   },
   "cell_type": "code",
   "source": [
    "validation_score = cross_val_score(regression,X_train_scaled,y_train,scoring='neg_mean_squared_error',\n",
    "                                cv=3)\n",
    "np.mean(validation_score)"
   ],
   "id": "6e456a3c10622df6",
   "outputs": [
    {
     "data": {
      "text/plain": [
       "-2.7933240294438444"
      ]
     },
     "execution_count": 151,
     "metadata": {},
     "output_type": "execute_result"
    }
   ],
   "execution_count": 151
  },
  {
   "metadata": {
    "ExecuteTime": {
     "end_time": "2024-11-16T11:47:14.536003Z",
     "start_time": "2024-11-16T11:47:14.531230Z"
    }
   },
   "cell_type": "code",
   "source": "y_pred = regression.predict(X_test_scaled)",
   "id": "2e2c217a837b731a",
   "outputs": [],
   "execution_count": 152
  },
  {
   "metadata": {
    "ExecuteTime": {
     "end_time": "2024-11-16T11:44:57.550872Z",
     "start_time": "2024-11-16T11:44:57.541308Z"
    }
   },
   "cell_type": "code",
   "source": [
    "residuals=y_test-y_pred\n",
    "print(residuals)"
   ],
   "id": "4eee2ff22aade8d8",
   "outputs": [
    {
     "name": "stdout",
     "output_type": "stream",
     "text": [
      "24     0.176595\n",
      "6     -0.552529\n",
      "152    0.754117\n",
      "232   -0.555893\n",
      "238   -0.191359\n",
      "         ...   \n",
      "162    0.157949\n",
      "178   -0.017026\n",
      "224    0.272668\n",
      "230    0.782918\n",
      "154    0.019510\n",
      "Name: FWI, Length: 61, dtype: float64\n"
     ]
    }
   ],
   "execution_count": 144
  },
  {
   "metadata": {
    "ExecuteTime": {
     "end_time": "2024-11-16T11:47:30.110776Z",
     "start_time": "2024-11-16T11:47:29.858202Z"
    }
   },
   "cell_type": "code",
   "source": "sns.displot(residuals,kind='kde')",
   "id": "5968bc7ca88f363f",
   "outputs": [
    {
     "data": {
      "text/plain": [
       "<seaborn.axisgrid.FacetGrid at 0x18e1e573f80>"
      ]
     },
     "execution_count": 153,
     "metadata": {},
     "output_type": "execute_result"
    },
    {
     "data": {
      "text/plain": [
       "<Figure size 500x500 with 1 Axes>"
      ],
      "image/png": "[encoded data removed]"
     },
     "metadata": {},
     "output_type": "display_data"
    }
   ],
   "execution_count": 153
  },
  {
   "metadata": {
    "ExecuteTime": {
     "end_time": "2024-11-16T11:45:10.193343Z",
     "start_time": "2024-11-16T11:45:10.184355Z"
    }
   },
   "cell_type": "code",
   "source": [
    "print(\"Mean Squared Error:\", mean_squared_error(y_test, y_pred))\n",
    "print(\"Mean Absolute Error:\", mean_absolute_error(y_test, y_pred))\n",
    "print(\"Root Mean Squared Error:\", np.sqrt(mean_squared_error(y_test, y_pred)))"
   ],
   "id": "e3277c5f80f43b2f",
   "outputs": [
    {
     "name": "stdout",
     "output_type": "stream",
     "text": [
      "Mean Squared Error: 0.6742766873791568\n",
      "Mean Absolute Error: 0.5468236465249977\n",
      "Root Mean Squared Error: 0.8211435242265245\n"
     ]
    }
   ],
   "execution_count": 146
  },
  {
   "metadata": {
    "ExecuteTime": {
     "end_time": "2024-11-16T11:45:15.411869Z",
     "start_time": "2024-11-16T11:45:15.400821Z"
    }
   },
   "cell_type": "code",
   "source": [
    "r2 = r2_score(y_test, y_pred)\n",
    "n = len(y_train)\n",
    "p = X_train.shape[1]\n",
    "adjusted_r2 = 1 - (1 - r2) * ((n - 1) / (n - p - 1))\n",
    "\n",
    "print(\"R2 Score:\", r2)\n",
    "print(\"Adjusted R2 Score:\", adjusted_r2)"
   ],
   "id": "ebd0e03b893baa70",
   "outputs": [
    {
     "name": "stdout",
     "output_type": "stream",
     "text": [
      "R2 Score: 0.9847657384266952\n",
      "Adjusted R2 Score: 0.9839685968327433\n"
     ]
    }
   ],
   "execution_count": 147
  },
  {
   "metadata": {
    "ExecuteTime": {
     "end_time": "2024-11-16T11:45:21.435854Z",
     "start_time": "2024-11-16T11:45:21.419042Z"
    }
   },
   "cell_type": "code",
   "source": [
    "model=sm.OLS(y_train,X_train).fit()\n",
    "prediction=model.predict(X_test)\n",
    "print(prediction)"
   ],
   "id": "da983642aeba5843",
   "outputs": [
    {
     "name": "stdout",
     "output_type": "stream",
     "text": [
      "24      8.158910\n",
      "6       7.643018\n",
      "152    -0.372835\n",
      "232     4.411719\n",
      "238     6.613129\n",
      "         ...    \n",
      "162     0.757946\n",
      "178     9.043053\n",
      "224     3.669910\n",
      "230    14.440118\n",
      "154     5.234941\n",
      "Length: 61, dtype: float64\n"
     ]
    }
   ],
   "execution_count": 148
  },
  {
   "metadata": {
    "ExecuteTime": {
     "end_time": "2024-11-16T11:45:28.169356Z",
     "start_time": "2024-11-16T11:45:28.130580Z"
    }
   },
   "cell_type": "code",
   "source": "model.summary()",
   "id": "11d5350bf3b3addb",
   "outputs": [
    {
     "data": {
      "text/plain": [
       "<class 'statsmodels.iolib.summary.Summary'>\n",
       "\"\"\"\n",
       "                                 OLS Regression Results                                \n",
       "=======================================================================================\n",
       "Dep. Variable:                    FWI   R-squared (uncentered):                   0.984\n",
       "Model:                            OLS   Adj. R-squared (uncentered):              0.983\n",
       "Method:                 Least Squares   F-statistic:                              1165.\n",
       "Date:                Sat, 16 Nov 2024   Prob (F-statistic):                   8.67e-150\n",
       "Time:                        17:15:28   Log-Likelihood:                         -310.97\n",
       "No. Observations:                 182   AIC:                                      639.9\n",
       "Df Residuals:                     173   BIC:                                      668.8\n",
       "Df Model:                           9                                                  \n",
       "Covariance Type:            nonrobust                                                  \n",
       "===============================================================================\n",
       "                  coef    std err          t      P>|t|      [0.025      0.975]\n",
       "-------------------------------------------------------------------------------\n",
       "Temperature     0.0259      0.033      0.774      0.440      -0.040       0.092\n",
       "RH             -0.0010      0.009     -0.108      0.914      -0.019       0.017\n",
       "Ws              0.0251      0.041      0.610      0.543      -0.056       0.106\n",
       "Rain           -0.0026      0.059     -0.044      0.965      -0.118       0.113\n",
       "FFMC           -0.0478      0.014     -3.312      0.001      -0.076      -0.019\n",
       "DMC             0.2896      0.011     25.278      0.000       0.267       0.312\n",
       "ISI             1.1279      0.051     21.903      0.000       1.026       1.230\n",
       "Classes         0.6429      0.360      1.788      0.076      -0.067       1.353\n",
       "Region         -0.7237      0.220     -3.290      0.001      -1.158      -0.290\n",
       "==============================================================================\n",
       "Omnibus:                      219.399   Durbin-Watson:                   1.879\n",
       "Prob(Omnibus):                  0.000   Jarque-Bera (JB):            14214.075\n",
       "Skew:                          -4.604   Prob(JB):                         0.00\n",
       "Kurtosis:                      45.304   Cond. No.                         382.\n",
       "==============================================================================\n",
       "\n",
       "Notes:\n",
       "[1] R² is computed without centering (uncentered) since the model does not contain a constant.\n",
       "[2] Standard Errors assume that the covariance matrix of the errors is correctly specified.\n",
       "\"\"\""
      ],
      "text/html": [
       "<table class=\"simpletable\">\n",
       "<caption>OLS Regression Results</caption>\n",
       "<tr>\n",
       "  <th>Dep. Variable:</th>           <td>FWI</td>       <th>  R-squared (uncentered):</th>      <td>   0.984</td> \n",
       "</tr>\n",
       "<tr>\n",
       "  <th>Model:</th>                   <td>OLS</td>       <th>  Adj. R-squared (uncentered):</th> <td>   0.983</td> \n",
       "</tr>\n",
       "<tr>\n",
       "  <th>Method:</th>             <td>Least Squares</td>  <th>  F-statistic:       </th>          <td>   1165.</td> \n",
       "</tr>\n",
       "<tr>\n",
       "  <th>Date:</th>             <td>Sat, 16 Nov 2024</td> <th>  Prob (F-statistic):</th>          <td>8.67e-150</td>\n",
       "</tr>\n",
       "<tr>\n",
       "  <th>Time:</th>                 <td>17:15:28</td>     <th>  Log-Likelihood:    </th>          <td> -310.97</td> \n",
       "</tr>\n",
       "<tr>\n",
       "  <th>No. Observations:</th>      <td>   182</td>      <th>  AIC:               </th>          <td>   639.9</td> \n",
       "</tr>\n",
       "<tr>\n",
       "  <th>Df Residuals:</th>          <td>   173</td>      <th>  BIC:               </th>          <td>   668.8</td> \n",
       "</tr>\n",
       "<tr>\n",
       "  <th>Df Model:</th>              <td>     9</td>      <th>                     </th>              <td> </td>    \n",
       "</tr>\n",
       "<tr>\n",
       "  <th>Covariance Type:</th>      <td>nonrobust</td>    <th>                     </th>              <td> </td>    \n",
       "</tr>\n",
       "</table>\n",
       "<table class=\"simpletable\">\n",
       "<tr>\n",
       "       <td></td>          <th>coef</th>     <th>std err</th>      <th>t</th>      <th>P>|t|</th>  <th>[0.025</th>    <th>0.975]</th>  \n",
       "</tr>\n",
       "<tr>\n",
       "  <th>Temperature</th> <td>    0.0259</td> <td>    0.033</td> <td>    0.774</td> <td> 0.440</td> <td>   -0.040</td> <td>    0.092</td>\n",
       "</tr>\n",
       "<tr>\n",
       "  <th>RH</th>          <td>   -0.0010</td> <td>    0.009</td> <td>   -0.108</td> <td> 0.914</td> <td>   -0.019</td> <td>    0.017</td>\n",
       "</tr>\n",
       "<tr>\n",
       "  <th>Ws</th>          <td>    0.0251</td> <td>    0.041</td> <td>    0.610</td> <td> 0.543</td> <td>   -0.056</td> <td>    0.106</td>\n",
       "</tr>\n",
       "<tr>\n",
       "  <th>Rain</th>        <td>   -0.0026</td> <td>    0.059</td> <td>   -0.044</td> <td> 0.965</td> <td>   -0.118</td> <td>    0.113</td>\n",
       "</tr>\n",
       "<tr>\n",
       "  <th>FFMC</th>        <td>   -0.0478</td> <td>    0.014</td> <td>   -3.312</td> <td> 0.001</td> <td>   -0.076</td> <td>   -0.019</td>\n",
       "</tr>\n",
       "<tr>\n",
       "  <th>DMC</th>         <td>    0.2896</td> <td>    0.011</td> <td>   25.278</td> <td> 0.000</td> <td>    0.267</td> <td>    0.312</td>\n",
       "</tr>\n",
       "<tr>\n",
       "  <th>ISI</th>         <td>    1.1279</td> <td>    0.051</td> <td>   21.903</td> <td> 0.000</td> <td>    1.026</td> <td>    1.230</td>\n",
       "</tr>\n",
       "<tr>\n",
       "  <th>Classes</th>     <td>    0.6429</td> <td>    0.360</td> <td>    1.788</td> <td> 0.076</td> <td>   -0.067</td> <td>    1.353</td>\n",
       "</tr>\n",
       "<tr>\n",
       "  <th>Region</th>      <td>   -0.7237</td> <td>    0.220</td> <td>   -3.290</td> <td> 0.001</td> <td>   -1.158</td> <td>   -0.290</td>\n",
       "</tr>\n",
       "</table>\n",
       "<table class=\"simpletable\">\n",
       "<tr>\n",
       "  <th>Omnibus:</th>       <td>219.399</td> <th>  Durbin-Watson:     </th> <td>   1.879</td> \n",
       "</tr>\n",
       "<tr>\n",
       "  <th>Prob(Omnibus):</th> <td> 0.000</td>  <th>  Jarque-Bera (JB):  </th> <td>14214.075</td>\n",
       "</tr>\n",
       "<tr>\n",
       "  <th>Skew:</th>          <td>-4.604</td>  <th>  Prob(JB):          </th> <td>    0.00</td> \n",
       "</tr>\n",
       "<tr>\n",
       "  <th>Kurtosis:</th>      <td>45.304</td>  <th>  Cond. No.          </th> <td>    382.</td> \n",
       "</tr>\n",
       "</table><br/><br/>Notes:<br/>[1] R² is computed without centering (uncentered) since the model does not contain a constant.<br/>[2] Standard Errors assume that the covariance matrix of the errors is correctly specified."
      ],
      "text/latex": "\\begin{center}\n\\begin{tabular}{lclc}\n\\toprule\n\\textbf{Dep. Variable:}    &       FWI        & \\textbf{  R-squared (uncentered):}      &     0.984   \\\\\n\\textbf{Model:}            &       OLS        & \\textbf{  Adj. R-squared (uncentered):} &     0.983   \\\\\n\\textbf{Method:}           &  Least Squares   & \\textbf{  F-statistic:       }          &     1165.   \\\\\n\\textbf{Date:}             & Sat, 16 Nov 2024 & \\textbf{  Prob (F-statistic):}          & 8.67e-150   \\\\\n\\textbf{Time:}             &     17:15:28     & \\textbf{  Log-Likelihood:    }          &   -310.97   \\\\\n\\textbf{No. Observations:} &         182      & \\textbf{  AIC:               }          &     639.9   \\\\\n\\textbf{Df Residuals:}     &         173      & \\textbf{  BIC:               }          &     668.8   \\\\\n\\textbf{Df Model:}         &           9      & \\textbf{                     }          &             \\\\\n\\textbf{Covariance Type:}  &    nonrobust     & \\textbf{                     }          &             \\\\\n\\bottomrule\n\\end{tabular}\n\\begin{tabular}{lcccccc}\n                     & \\textbf{coef} & \\textbf{std err} & \\textbf{t} & \\textbf{P$> |$t$|$} & \\textbf{[0.025} & \\textbf{0.975]}  \\\\\n\\midrule\n\\textbf{Temperature} &       0.0259  &        0.033     &     0.774  &         0.440        &       -0.040    &        0.092     \\\\\n\\textbf{RH}          &      -0.0010  &        0.009     &    -0.108  &         0.914        &       -0.019    &        0.017     \\\\\n\\textbf{Ws}          &       0.0251  &        0.041     &     0.610  &         0.543        &       -0.056    &        0.106     \\\\\n\\textbf{Rain}        &      -0.0026  &        0.059     &    -0.044  &         0.965        &       -0.118    &        0.113     \\\\\n\\textbf{FFMC}        &      -0.0478  &        0.014     &    -3.312  &         0.001        &       -0.076    &       -0.019     \\\\\n\\textbf{DMC}         &       0.2896  &        0.011     &    25.278  &         0.000        &        0.267    &        0.312     \\\\\n\\textbf{ISI}         &       1.1279  &        0.051     &    21.903  &         0.000        &        1.026    &        1.230     \\\\\n\\textbf{Classes}     &       0.6429  &        0.360     &     1.788  &         0.076        &       -0.067    &        1.353     \\\\\n\\textbf{Region}      &      -0.7237  &        0.220     &    -3.290  &         0.001        &       -1.158    &       -0.290     \\\\\n\\bottomrule\n\\end{tabular}\n\\begin{tabular}{lclc}\n\\textbf{Omnibus:}       & 219.399 & \\textbf{  Durbin-Watson:     } &     1.879  \\\\\n\\textbf{Prob(Omnibus):} &   0.000 & \\textbf{  Jarque-Bera (JB):  } & 14214.075  \\\\\n\\textbf{Skew:}          &  -4.604 & \\textbf{  Prob(JB):          } &      0.00  \\\\\n\\textbf{Kurtosis:}      &  45.304 & \\textbf{  Cond. No.          } &      382.  \\\\\n\\bottomrule\n\\end{tabular}\n%\\caption{OLS Regression Results}\n\\end{center}\n\nNotes: \\newline\n [1] R² is computed without centering (uncentered) since the model does not contain a constant. \\newline\n [2] Standard Errors assume that the covariance matrix of the errors is correctly specified."
     },
     "execution_count": 149,
     "metadata": {},
     "output_type": "execute_result"
    }
   ],
   "execution_count": 149
  },
  {
   "metadata": {},
   "cell_type": "markdown",
   "source": "## Lasso Regression",
   "id": "260b16878b7fae0e"
  },
  {
   "metadata": {},
   "cell_type": "code",
   "outputs": [],
   "execution_count": null,
   "source": "",
   "id": "3d1226e68e2c07a0"
  }
 ],
 "metadata": {
  "kernelspec": {
   "display_name": "Python 3",
   "language": "python",
   "name": "python3"
  },
  "language_info": {
   "codemirror_mode": {
    "name": "ipython",
    "version": 2
   },
   "file_extension": ".py",
   "mimetype": "text/x-python",
   "name": "python",
   "nbconvert_exporter": "python",
   "pygments_lexer": "ipython2",
   "version": "2.7.6"
  }
 },
 "nbformat": 4,
 "nbformat_minor": 5
}
